{
 "cells": [
  {
   "cell_type": "markdown",
   "id": "09a13fdf",
   "metadata": {},
   "source": [
    "#  Simple Linear Regression"
   ]
  },
  {
   "cell_type": "markdown",
   "id": "16a0e806",
   "metadata": {},
   "source": [
    "# The goal to build a prediction model for Salary hike."
   ]
  },
  {
   "cell_type": "markdown",
   "id": "cf7defdf",
   "metadata": {},
   "source": [
    "- The given sample dataset is a salary hike data set which displays the salaries of employees working for an organization having a praticular salary amount. Salary is calculated on the basis of years of working experience of the employee. \n",
    "- So, we have to make a pridiction model to pridict the salary of the employee of the basis of years of experience the employee."
   ]
  },
  {
   "cell_type": "code",
   "execution_count": 16,
   "id": "a23d22ed",
   "metadata": {},
   "outputs": [],
   "source": [
    "#importing required libraries\n",
    "import pandas as pd\n",
    "import numpy as np\n",
    "import matplotlib.pyplot as plt\n",
    "import seaborn as sns\n",
    "from sklearn.linear_model import LinearRegression\n",
    "from sklearn import metrics\n",
    "import statsmodels.formula.api as smf\n",
    "import warnings\n",
    "warnings.filterwarnings('ignore')"
   ]
  },
  {
   "cell_type": "code",
   "execution_count": 17,
   "id": "b5fc181a",
   "metadata": {},
   "outputs": [
    {
     "data": {
      "text/html": [
       "<div>\n",
       "<style scoped>\n",
       "    .dataframe tbody tr th:only-of-type {\n",
       "        vertical-align: middle;\n",
       "    }\n",
       "\n",
       "    .dataframe tbody tr th {\n",
       "        vertical-align: top;\n",
       "    }\n",
       "\n",
       "    .dataframe thead th {\n",
       "        text-align: right;\n",
       "    }\n",
       "</style>\n",
       "<table border=\"1\" class=\"dataframe\">\n",
       "  <thead>\n",
       "    <tr style=\"text-align: right;\">\n",
       "      <th></th>\n",
       "      <th>YearsExperience</th>\n",
       "      <th>Salary</th>\n",
       "    </tr>\n",
       "  </thead>\n",
       "  <tbody>\n",
       "    <tr>\n",
       "      <th>0</th>\n",
       "      <td>1.1</td>\n",
       "      <td>39343.0</td>\n",
       "    </tr>\n",
       "    <tr>\n",
       "      <th>1</th>\n",
       "      <td>1.3</td>\n",
       "      <td>46205.0</td>\n",
       "    </tr>\n",
       "    <tr>\n",
       "      <th>2</th>\n",
       "      <td>1.5</td>\n",
       "      <td>37731.0</td>\n",
       "    </tr>\n",
       "    <tr>\n",
       "      <th>3</th>\n",
       "      <td>2.0</td>\n",
       "      <td>43525.0</td>\n",
       "    </tr>\n",
       "    <tr>\n",
       "      <th>4</th>\n",
       "      <td>2.2</td>\n",
       "      <td>39891.0</td>\n",
       "    </tr>\n",
       "    <tr>\n",
       "      <th>5</th>\n",
       "      <td>2.9</td>\n",
       "      <td>56642.0</td>\n",
       "    </tr>\n",
       "    <tr>\n",
       "      <th>6</th>\n",
       "      <td>3.0</td>\n",
       "      <td>60150.0</td>\n",
       "    </tr>\n",
       "    <tr>\n",
       "      <th>7</th>\n",
       "      <td>3.2</td>\n",
       "      <td>54445.0</td>\n",
       "    </tr>\n",
       "    <tr>\n",
       "      <th>8</th>\n",
       "      <td>3.2</td>\n",
       "      <td>64445.0</td>\n",
       "    </tr>\n",
       "    <tr>\n",
       "      <th>9</th>\n",
       "      <td>3.7</td>\n",
       "      <td>57189.0</td>\n",
       "    </tr>\n",
       "  </tbody>\n",
       "</table>\n",
       "</div>"
      ],
      "text/plain": [
       "   YearsExperience   Salary\n",
       "0              1.1  39343.0\n",
       "1              1.3  46205.0\n",
       "2              1.5  37731.0\n",
       "3              2.0  43525.0\n",
       "4              2.2  39891.0\n",
       "5              2.9  56642.0\n",
       "6              3.0  60150.0\n",
       "7              3.2  54445.0\n",
       "8              3.2  64445.0\n",
       "9              3.7  57189.0"
      ]
     },
     "execution_count": 17,
     "metadata": {},
     "output_type": "execute_result"
    }
   ],
   "source": [
    "#loading data i.e., storing data in a varable as data frame \n",
    "salary_df=pd.read_csv('Salary_Data.csv')\n",
    "salary_df.head(10)"
   ]
  },
  {
   "cell_type": "markdown",
   "id": "34df4632",
   "metadata": {},
   "source": [
    "<i><font color='green'>Here, we take YearsofExperince feature (independent variable) and Salary as Target (Dependent Variable)</font></i>"
   ]
  },
  {
   "cell_type": "markdown",
   "id": "5d2102c6",
   "metadata": {},
   "source": [
    "## EDA"
   ]
  },
  {
   "cell_type": "code",
   "execution_count": 18,
   "id": "4c43a1a2",
   "metadata": {
    "scrolled": false
   },
   "outputs": [
    {
     "name": "stdout",
     "output_type": "stream",
     "text": [
      "<class 'pandas.core.frame.DataFrame'>\n",
      "RangeIndex: 30 entries, 0 to 29\n",
      "Data columns (total 2 columns):\n",
      " #   Column           Non-Null Count  Dtype  \n",
      "---  ------           --------------  -----  \n",
      " 0   YearsExperience  30 non-null     float64\n",
      " 1   Salary           30 non-null     float64\n",
      "dtypes: float64(2)\n",
      "memory usage: 608.0 bytes\n"
     ]
    }
   ],
   "source": [
    "#First we will check if the dataset contains any missing or null values\n",
    "salary_df.info()"
   ]
  },
  {
   "cell_type": "markdown",
   "id": "9c7f2f15",
   "metadata": {},
   "source": [
    "- There are no null values in the dataset"
   ]
  },
  {
   "cell_type": "code",
   "execution_count": 19,
   "id": "7427e9ca",
   "metadata": {},
   "outputs": [
    {
     "data": {
      "text/plain": [
       "(0, 2)"
      ]
     },
     "execution_count": 19,
     "metadata": {},
     "output_type": "execute_result"
    }
   ],
   "source": [
    "# Check for dupicates\n",
    "salary_df[salary_df.duplicated()].shape"
   ]
  },
  {
   "cell_type": "markdown",
   "id": "ae6155e3",
   "metadata": {},
   "source": [
    "- There are no duplicate values in the data set"
   ]
  },
  {
   "cell_type": "code",
   "execution_count": 20,
   "id": "ff763a08",
   "metadata": {
    "scrolled": true
   },
   "outputs": [
    {
     "data": {
      "text/html": [
       "<div>\n",
       "<style scoped>\n",
       "    .dataframe tbody tr th:only-of-type {\n",
       "        vertical-align: middle;\n",
       "    }\n",
       "\n",
       "    .dataframe tbody tr th {\n",
       "        vertical-align: top;\n",
       "    }\n",
       "\n",
       "    .dataframe thead th {\n",
       "        text-align: right;\n",
       "    }\n",
       "</style>\n",
       "<table border=\"1\" class=\"dataframe\">\n",
       "  <thead>\n",
       "    <tr style=\"text-align: right;\">\n",
       "      <th></th>\n",
       "      <th>YearsExperience</th>\n",
       "      <th>Salary</th>\n",
       "    </tr>\n",
       "  </thead>\n",
       "  <tbody>\n",
       "    <tr>\n",
       "      <th>count</th>\n",
       "      <td>30.000000</td>\n",
       "      <td>30.000000</td>\n",
       "    </tr>\n",
       "    <tr>\n",
       "      <th>mean</th>\n",
       "      <td>5.313333</td>\n",
       "      <td>76003.000000</td>\n",
       "    </tr>\n",
       "    <tr>\n",
       "      <th>std</th>\n",
       "      <td>2.837888</td>\n",
       "      <td>27414.429785</td>\n",
       "    </tr>\n",
       "    <tr>\n",
       "      <th>min</th>\n",
       "      <td>1.100000</td>\n",
       "      <td>37731.000000</td>\n",
       "    </tr>\n",
       "    <tr>\n",
       "      <th>25%</th>\n",
       "      <td>3.200000</td>\n",
       "      <td>56720.750000</td>\n",
       "    </tr>\n",
       "    <tr>\n",
       "      <th>50%</th>\n",
       "      <td>4.700000</td>\n",
       "      <td>65237.000000</td>\n",
       "    </tr>\n",
       "    <tr>\n",
       "      <th>75%</th>\n",
       "      <td>7.700000</td>\n",
       "      <td>100544.750000</td>\n",
       "    </tr>\n",
       "    <tr>\n",
       "      <th>max</th>\n",
       "      <td>10.500000</td>\n",
       "      <td>122391.000000</td>\n",
       "    </tr>\n",
       "  </tbody>\n",
       "</table>\n",
       "</div>"
      ],
      "text/plain": [
       "       YearsExperience         Salary\n",
       "count        30.000000      30.000000\n",
       "mean          5.313333   76003.000000\n",
       "std           2.837888   27414.429785\n",
       "min           1.100000   37731.000000\n",
       "25%           3.200000   56720.750000\n",
       "50%           4.700000   65237.000000\n",
       "75%           7.700000  100544.750000\n",
       "max          10.500000  122391.000000"
      ]
     },
     "execution_count": 20,
     "metadata": {},
     "output_type": "execute_result"
    }
   ],
   "source": [
    "# Analyse the measures of central tendencies\n",
    "salary_df.describe()"
   ]
  },
  {
   "cell_type": "code",
   "execution_count": 21,
   "id": "edaaa0b9",
   "metadata": {},
   "outputs": [
    {
     "data": {
      "text/html": [
       "<div>\n",
       "<style scoped>\n",
       "    .dataframe tbody tr th:only-of-type {\n",
       "        vertical-align: middle;\n",
       "    }\n",
       "\n",
       "    .dataframe tbody tr th {\n",
       "        vertical-align: top;\n",
       "    }\n",
       "\n",
       "    .dataframe thead th {\n",
       "        text-align: right;\n",
       "    }\n",
       "</style>\n",
       "<table border=\"1\" class=\"dataframe\">\n",
       "  <thead>\n",
       "    <tr style=\"text-align: right;\">\n",
       "      <th></th>\n",
       "      <th>YearsExperience</th>\n",
       "      <th>Salary</th>\n",
       "    </tr>\n",
       "  </thead>\n",
       "  <tbody>\n",
       "    <tr>\n",
       "      <th>YearsExperience</th>\n",
       "      <td>1.000000</td>\n",
       "      <td>0.978242</td>\n",
       "    </tr>\n",
       "    <tr>\n",
       "      <th>Salary</th>\n",
       "      <td>0.978242</td>\n",
       "      <td>1.000000</td>\n",
       "    </tr>\n",
       "  </tbody>\n",
       "</table>\n",
       "</div>"
      ],
      "text/plain": [
       "                 YearsExperience    Salary\n",
       "YearsExperience         1.000000  0.978242\n",
       "Salary                  0.978242  1.000000"
      ]
     },
     "execution_count": 21,
     "metadata": {},
     "output_type": "execute_result"
    }
   ],
   "source": [
    "#Now we will check the correlation matrix using .corr() function.\n",
    "salary_df.corr()"
   ]
  },
  {
   "cell_type": "markdown",
   "id": "bc6c633e",
   "metadata": {},
   "source": [
    "## Visualizations"
   ]
  },
  {
   "cell_type": "code",
   "execution_count": 22,
   "id": "e0ece090",
   "metadata": {
    "scrolled": true
   },
   "outputs": [
    {
     "data": {
      "image/png": "[encoded data removed]",
      "text/plain": [
       "<Figure size 432x360 with 1 Axes>"
      ]
     },
     "metadata": {
      "needs_background": "light"
     },
     "output_type": "display_data"
    }
   ],
   "source": [
    "#Now we will plot a scatter plot to check the data in data set has any correlation between features and target. Since Bivariate\n",
    "plt.figure(figsize=(6,5))\n",
    "sns.scatterplot(data=salary_df,x='YearsExperience',y='Salary')\n",
    "plt.title('Experiance vs salary');"
   ]
  },
  {
   "cell_type": "code",
   "execution_count": 23,
   "id": "81f8f50a",
   "metadata": {},
   "outputs": [
    {
     "data": {
      "image/png": "[encoded data removed]",
      "text/plain": [
       "<Figure size 432x360 with 1 Axes>"
      ]
     },
     "metadata": {
      "needs_background": "light"
     },
     "output_type": "display_data"
    },
    {
     "data": {
      "image/png": "[encoded data removed]",
      "text/plain": [
       "<Figure size 432x360 with 1 Axes>"
      ]
     },
     "metadata": {
      "needs_background": "light"
     },
     "output_type": "display_data"
    }
   ],
   "source": [
    "#Now we will check if the data contains any outliesrs usig boxplot\n",
    "plt.figure(figsize=(6,5))\n",
    "sns.boxplot(data=salary_df,y='YearsExperience')\n",
    "plt.title('Experiance');\n",
    "plt.figure(figsize=(6,5))\n",
    "sns.boxplot(data=salary_df,y='Salary')\n",
    "plt.title('Salary');"
   ]
  },
  {
   "cell_type": "markdown",
   "id": "7f29d89d",
   "metadata": {},
   "source": [
    "- The data is more towards the middle part or towards the mean. So, the given dataset dosent have any outliers"
   ]
  },
  {
   "cell_type": "markdown",
   "id": "41ffc653",
   "metadata": {},
   "source": [
    "<font color = 'green'> There is a positive correlation between the two variables </font>"
   ]
  },
  {
   "cell_type": "code",
   "execution_count": 24,
   "id": "6dc6f13b",
   "metadata": {
    "scrolled": true
   },
   "outputs": [
    {
     "data": {
      "text/plain": [
       "Text(0.5, 1.0, 'Histogram for Salary')"
      ]
     },
     "execution_count": 24,
     "metadata": {},
     "output_type": "execute_result"
    },
    {
     "data": {
      "image/png": "[encoded data removed]",
      "text/plain": [
       "<Figure size 432x288 with 1 Axes>"
      ]
     },
     "metadata": {
      "needs_background": "light"
     },
     "output_type": "display_data"
    }
   ],
   "source": [
    "sns.histplot(salary_df['Salary'],color='orange')\n",
    "plt.title('Histogram for Salary')"
   ]
  },
  {
   "cell_type": "code",
   "execution_count": 25,
   "id": "a32f818d",
   "metadata": {},
   "outputs": [
    {
     "data": {
      "text/plain": [
       "Text(0.5, 1.0, 'Histogram for Salary')"
      ]
     },
     "execution_count": 25,
     "metadata": {},
     "output_type": "execute_result"
    },
    {
     "data": {
      "image/png": "[encoded data removed]",
      "text/plain": [
       "<Figure size 432x288 with 1 Axes>"
      ]
     },
     "metadata": {
      "needs_background": "light"
     },
     "output_type": "display_data"
    }
   ],
   "source": [
    "sns.histplot(salary_df['YearsExperience'],color='orange')\n",
    "plt.title('Histogram for Salary')"
   ]
  },
  {
   "cell_type": "code",
   "execution_count": 26,
   "id": "a6703019",
   "metadata": {
    "scrolled": true
   },
   "outputs": [
    {
     "data": {
      "text/plain": [
       "Text(0.5, 1.0, 'Distribution for Salary')"
      ]
     },
     "execution_count": 26,
     "metadata": {},
     "output_type": "execute_result"
    },
    {
     "data": {
      "image/png": "[encoded data removed]",
      "text/plain": [
       "<Figure size 432x288 with 1 Axes>"
      ]
     },
     "metadata": {
      "needs_background": "light"
     },
     "output_type": "display_data"
    }
   ],
   "source": [
    "#Now we will check if the data is normally distributed using d distribution plot( this is used for univariate analysis)\n",
    "sns.distplot(salary_df['Salary'],color='orange')\n",
    "plt.title('Distribution for Salary')"
   ]
  },
  {
   "cell_type": "code",
   "execution_count": 27,
   "id": "e69e6744",
   "metadata": {
    "scrolled": true
   },
   "outputs": [
    {
     "data": {
      "text/plain": [
       "Text(0.5, 1.0, 'Distribution for Years Of Experience')"
      ]
     },
     "execution_count": 27,
     "metadata": {},
     "output_type": "execute_result"
    },
    {
     "data": {
      "image/png": "[encoded data removed]",
      "text/plain": [
       "<Figure size 432x288 with 1 Axes>"
      ]
     },
     "metadata": {
      "needs_background": "light"
     },
     "output_type": "display_data"
    }
   ],
   "source": [
    "sns.distplot(salary_df['YearsExperience'], color='blue')\n",
    "plt.title('Distribution for Years Of Experience')"
   ]
  },
  {
   "cell_type": "markdown",
   "id": "01275cbf",
   "metadata": {},
   "source": [
    "<font color='green'> The dataset has normal distribution </font>"
   ]
  },
  {
   "cell_type": "code",
   "execution_count": 28,
   "id": "33138978",
   "metadata": {},
   "outputs": [
    {
     "data": {
      "text/plain": [
       "Text(0.5, 1.0, 'Regression Plot')"
      ]
     },
     "execution_count": 28,
     "metadata": {},
     "output_type": "execute_result"
    },
    {
     "data": {
      "image/png": "[encoded data removed]",
      "text/plain": [
       "<Figure size 432x288 with 1 Axes>"
      ]
     },
     "metadata": {
      "needs_background": "light"
     },
     "output_type": "display_data"
    }
   ],
   "source": [
    "#Since the data has quiet anormal distribution we will move on towards the regression plot \n",
    "sns.regplot(x='YearsExperience',y='Salary',data=salary_df,color='indigo')\n",
    "plt.title('Regression Plot')"
   ]
  },
  {
   "cell_type": "markdown",
   "id": "ac52fc59",
   "metadata": {},
   "source": [
    "- We can see there is a best fit line drawn showing positive relationship"
   ]
  },
  {
   "cell_type": "markdown",
   "id": "34ff92eb",
   "metadata": {},
   "source": [
    "## Model Building"
   ]
  },
  {
   "cell_type": "code",
   "execution_count": 29,
   "id": "9a1bed03",
   "metadata": {},
   "outputs": [],
   "source": [
    "#Creating Model using OLS (Ordinary Least Squared)\n",
    "model=smf.ols('Salary~YearsExperience',data=salary_df).fit()"
   ]
  },
  {
   "cell_type": "code",
   "execution_count": 30,
   "id": "6c506a62",
   "metadata": {},
   "outputs": [
    {
     "data": {
      "text/plain": [
       "Intercept          25792.200199\n",
       "YearsExperience     9449.962321\n",
       "dtype: float64"
      ]
     },
     "execution_count": 30,
     "metadata": {},
     "output_type": "execute_result"
    }
   ],
   "source": [
    "# Finding Coefficients of the Parameter \n",
    "model.params "
   ]
  },
  {
   "cell_type": "code",
   "execution_count": 34,
   "id": "4a7858bb",
   "metadata": {
    "scrolled": true
   },
   "outputs": [
    {
     "data": {
      "text/plain": [
       "(Intercept          11.346940\n",
       " YearsExperience    24.950094\n",
       " dtype: float64,\n",
       " Intercept          5.511950e-12\n",
       " YearsExperience    1.143068e-20\n",
       " dtype: float64)"
      ]
     },
     "execution_count": 34,
     "metadata": {},
     "output_type": "execute_result"
    }
   ],
   "source": [
    "#t and p values\n",
    "model.tvalues, model.pvalues"
   ]
  },
  {
   "cell_type": "code",
   "execution_count": 35,
   "id": "309488ca",
   "metadata": {},
   "outputs": [],
   "source": [
    "#splitting the datset\n",
    "X=np.array(salary_df['YearsExperience']).reshape(-1,1)\n",
    "Y=np.array(salary_df['Salary']).reshape(-1,1)"
   ]
  },
  {
   "cell_type": "code",
   "execution_count": 36,
   "id": "d5ec7b11",
   "metadata": {},
   "outputs": [],
   "source": [
    "#Now we wil store the properties of LinearRegression() in Model variable \n",
    "Model = LinearRegression()"
   ]
  },
  {
   "cell_type": "code",
   "execution_count": 37,
   "id": "f6434159",
   "metadata": {},
   "outputs": [
    {
     "data": {
      "text/plain": [
       "LinearRegression()"
      ]
     },
     "execution_count": 37,
     "metadata": {},
     "output_type": "execute_result"
    }
   ],
   "source": [
    "Model.fit(X,Y)"
   ]
  },
  {
   "cell_type": "code",
   "execution_count": 38,
   "id": "60b352c6",
   "metadata": {},
   "outputs": [],
   "source": [
    "#Now we will store the pridicted data values of X column in predicted variable\n",
    "predicted=Model.predict(X)"
   ]
  },
  {
   "cell_type": "code",
   "execution_count": 40,
   "id": "e348805c",
   "metadata": {},
   "outputs": [
    {
     "data": {
      "text/html": [
       "<table class=\"simpletable\">\n",
       "<caption>OLS Regression Results</caption>\n",
       "<tr>\n",
       "  <th>Dep. Variable:</th>         <td>Salary</td>      <th>  R-squared:         </th> <td>   0.957</td>\n",
       "</tr>\n",
       "<tr>\n",
       "  <th>Model:</th>                   <td>OLS</td>       <th>  Adj. R-squared:    </th> <td>   0.955</td>\n",
       "</tr>\n",
       "<tr>\n",
       "  <th>Method:</th>             <td>Least Squares</td>  <th>  F-statistic:       </th> <td>   622.5</td>\n",
       "</tr>\n",
       "<tr>\n",
       "  <th>Date:</th>             <td>Fri, 15 Apr 2022</td> <th>  Prob (F-statistic):</th> <td>1.14e-20</td>\n",
       "</tr>\n",
       "<tr>\n",
       "  <th>Time:</th>                 <td>17:48:12</td>     <th>  Log-Likelihood:    </th> <td> -301.44</td>\n",
       "</tr>\n",
       "<tr>\n",
       "  <th>No. Observations:</th>      <td>    30</td>      <th>  AIC:               </th> <td>   606.9</td>\n",
       "</tr>\n",
       "<tr>\n",
       "  <th>Df Residuals:</th>          <td>    28</td>      <th>  BIC:               </th> <td>   609.7</td>\n",
       "</tr>\n",
       "<tr>\n",
       "  <th>Df Model:</th>              <td>     1</td>      <th>                     </th>     <td> </td>   \n",
       "</tr>\n",
       "<tr>\n",
       "  <th>Covariance Type:</th>      <td>nonrobust</td>    <th>                     </th>     <td> </td>   \n",
       "</tr>\n",
       "</table>\n",
       "<table class=\"simpletable\">\n",
       "<tr>\n",
       "         <td></td>            <th>coef</th>     <th>std err</th>      <th>t</th>      <th>P>|t|</th>  <th>[0.025</th>    <th>0.975]</th>  \n",
       "</tr>\n",
       "<tr>\n",
       "  <th>Intercept</th>       <td> 2.579e+04</td> <td> 2273.053</td> <td>   11.347</td> <td> 0.000</td> <td> 2.11e+04</td> <td> 3.04e+04</td>\n",
       "</tr>\n",
       "<tr>\n",
       "  <th>YearsExperience</th> <td> 9449.9623</td> <td>  378.755</td> <td>   24.950</td> <td> 0.000</td> <td> 8674.119</td> <td> 1.02e+04</td>\n",
       "</tr>\n",
       "</table>\n",
       "<table class=\"simpletable\">\n",
       "<tr>\n",
       "  <th>Omnibus:</th>       <td> 2.140</td> <th>  Durbin-Watson:     </th> <td>   1.648</td>\n",
       "</tr>\n",
       "<tr>\n",
       "  <th>Prob(Omnibus):</th> <td> 0.343</td> <th>  Jarque-Bera (JB):  </th> <td>   1.569</td>\n",
       "</tr>\n",
       "<tr>\n",
       "  <th>Skew:</th>          <td> 0.363</td> <th>  Prob(JB):          </th> <td>   0.456</td>\n",
       "</tr>\n",
       "<tr>\n",
       "  <th>Kurtosis:</th>      <td> 2.147</td> <th>  Cond. No.          </th> <td>    13.2</td>\n",
       "</tr>\n",
       "</table><br/><br/>Notes:<br/>[1] Standard Errors assume that the covariance matrix of the errors is correctly specified."
      ],
      "text/plain": [
       "<class 'statsmodels.iolib.summary.Summary'>\n",
       "\"\"\"\n",
       "                            OLS Regression Results                            \n",
       "==============================================================================\n",
       "Dep. Variable:                 Salary   R-squared:                       0.957\n",
       "Model:                            OLS   Adj. R-squared:                  0.955\n",
       "Method:                 Least Squares   F-statistic:                     622.5\n",
       "Date:                Fri, 15 Apr 2022   Prob (F-statistic):           1.14e-20\n",
       "Time:                        17:48:12   Log-Likelihood:                -301.44\n",
       "No. Observations:                  30   AIC:                             606.9\n",
       "Df Residuals:                      28   BIC:                             609.7\n",
       "Df Model:                           1                                         \n",
       "Covariance Type:            nonrobust                                         \n",
       "===================================================================================\n",
       "                      coef    std err          t      P>|t|      [0.025      0.975]\n",
       "-----------------------------------------------------------------------------------\n",
       "Intercept        2.579e+04   2273.053     11.347      0.000    2.11e+04    3.04e+04\n",
       "YearsExperience  9449.9623    378.755     24.950      0.000    8674.119    1.02e+04\n",
       "==============================================================================\n",
       "Omnibus:                        2.140   Durbin-Watson:                   1.648\n",
       "Prob(Omnibus):                  0.343   Jarque-Bera (JB):                1.569\n",
       "Skew:                           0.363   Prob(JB):                        0.456\n",
       "Kurtosis:                       2.147   Cond. No.                         13.2\n",
       "==============================================================================\n",
       "\n",
       "Notes:\n",
       "[1] Standard Errors assume that the covariance matrix of the errors is correctly specified.\n",
       "\"\"\""
      ]
     },
     "execution_count": 40,
     "metadata": {},
     "output_type": "execute_result"
    }
   ],
   "source": [
    "#Display Summary\n",
    "model.summary()"
   ]
  },
  {
   "cell_type": "code",
   "execution_count": 41,
   "id": "59386a5e",
   "metadata": {},
   "outputs": [
    {
     "name": "stdout",
     "output_type": "stream",
     "text": [
      "Mean absolute error is 4644.2012894435375\n"
     ]
    }
   ],
   "source": [
    "#calculating Mean absolute error\n",
    "from sklearn.metrics import mean_absolute_error\n",
    "MAE=metrics.mean_absolute_error(Y,predicted)\n",
    "print(\"Mean absolute error is {}\".format(MAE))"
   ]
  },
  {
   "cell_type": "markdown",
   "id": "e75f53b7",
   "metadata": {},
   "source": [
    "## Model Prediction"
   ]
  },
  {
   "cell_type": "code",
   "execution_count": 42,
   "id": "b203cdd8",
   "metadata": {},
   "outputs": [
    {
     "data": {
      "text/html": [
       "<div>\n",
       "<style scoped>\n",
       "    .dataframe tbody tr th:only-of-type {\n",
       "        vertical-align: middle;\n",
       "    }\n",
       "\n",
       "    .dataframe tbody tr th {\n",
       "        vertical-align: top;\n",
       "    }\n",
       "\n",
       "    .dataframe thead th {\n",
       "        text-align: right;\n",
       "    }\n",
       "</style>\n",
       "<table border=\"1\" class=\"dataframe\">\n",
       "  <thead>\n",
       "    <tr style=\"text-align: right;\">\n",
       "      <th></th>\n",
       "      <th>YearsExperiance</th>\n",
       "    </tr>\n",
       "  </thead>\n",
       "  <tbody>\n",
       "    <tr>\n",
       "      <th>0</th>\n",
       "      <td>1.5</td>\n",
       "    </tr>\n",
       "    <tr>\n",
       "      <th>1</th>\n",
       "      <td>9.0</td>\n",
       "    </tr>\n",
       "    <tr>\n",
       "      <th>2</th>\n",
       "      <td>5.0</td>\n",
       "    </tr>\n",
       "    <tr>\n",
       "      <th>3</th>\n",
       "      <td>4.0</td>\n",
       "    </tr>\n",
       "    <tr>\n",
       "      <th>4</th>\n",
       "      <td>2.0</td>\n",
       "    </tr>\n",
       "  </tbody>\n",
       "</table>\n",
       "</div>"
      ],
      "text/plain": [
       "   YearsExperiance\n",
       "0              1.5\n",
       "1              9.0\n",
       "2              5.0\n",
       "3              4.0\n",
       "4              2.0"
      ]
     },
     "execution_count": 42,
     "metadata": {},
     "output_type": "execute_result"
    }
   ],
   "source": [
    "new_data=pd.Series([1.5,9,5,4,2])\n",
    "pdata=pd.DataFrame(new_data,columns=[\"YearsExperiance\"])\n",
    "pdata"
   ]
  },
  {
   "cell_type": "code",
   "execution_count": 43,
   "id": "3c94bc92",
   "metadata": {},
   "outputs": [
    {
     "data": {
      "text/plain": [
       "array([[ 39967.14368085],\n",
       "       [110841.86109176],\n",
       "       [ 73042.01180594],\n",
       "       [ 63592.04948449],\n",
       "       [ 44692.12484158]])"
      ]
     },
     "execution_count": 43,
     "metadata": {},
     "output_type": "execute_result"
    }
   ],
   "source": [
    "Model.predict(pdata)"
   ]
  },
  {
   "cell_type": "markdown",
   "id": "eea2f733",
   "metadata": {},
   "source": [
    "- <b><font color = 'indigo'/>Infernece : </b><i><font color='blue'>The model is efficint with 95% accuray and has a mean absolute error of 4644.</font></i>"
   ]
  },
  {
   "cell_type": "markdown",
   "id": "9edf75ea",
   "metadata": {},
   "source": [
    "## Transformations"
   ]
  },
  {
   "cell_type": "code",
   "execution_count": 49,
   "id": "e8c460c1",
   "metadata": {},
   "outputs": [
    {
     "name": "stdout",
     "output_type": "stream",
     "text": [
      "The Rsquare value is 0.9569566641435086\n",
      "The intercept value is [25792.20019867]\n",
      "The slope value is[[9449.96232146]]\n"
     ]
    }
   ],
   "source": [
    "from sklearn.metrics import r2_score\n",
    "Rsquare= r2_score(Y,predicted)\n",
    "print(\"The Rsquare value is {}\".format(Rsquare))\n",
    "\n",
    "print(\"The intercept value is {}\".format(Model.intercept_))\n",
    "\n",
    "print(\"The slope value is{}\".format(Model.coef_))"
   ]
  },
  {
   "cell_type": "markdown",
   "id": "3f1c8648",
   "metadata": {},
   "source": [
    "### Log Transformation"
   ]
  },
  {
   "cell_type": "code",
   "execution_count": 50,
   "id": "1853db67",
   "metadata": {},
   "outputs": [],
   "source": [
    "x_log=np.log(X)\n",
    "y_log=np.log(Y)"
   ]
  },
  {
   "cell_type": "code",
   "execution_count": 51,
   "id": "ecd5a61b",
   "metadata": {},
   "outputs": [],
   "source": [
    "model1=LinearRegression()"
   ]
  },
  {
   "cell_type": "code",
   "execution_count": 52,
   "id": "6d1ca1bd",
   "metadata": {},
   "outputs": [
    {
     "data": {
      "text/plain": [
       "LinearRegression()"
      ]
     },
     "execution_count": 52,
     "metadata": {},
     "output_type": "execute_result"
    }
   ],
   "source": [
    "model1.fit(x_log,y_log)"
   ]
  },
  {
   "cell_type": "code",
   "execution_count": 53,
   "id": "dc090dd9",
   "metadata": {},
   "outputs": [],
   "source": [
    "log_pred=model1.predict(x_log)"
   ]
  },
  {
   "cell_type": "code",
   "execution_count": 54,
   "id": "148a4ac3",
   "metadata": {},
   "outputs": [
    {
     "name": "stdout",
     "output_type": "stream",
     "text": [
      "The rsquare value after transforminh the variables into log is 0.9052150725817151\n"
     ]
    }
   ],
   "source": [
    "log_r2score=r2_score(y_log,log_pred)\n",
    "print(\"The rsquare value after transforminh the variables into log is {}\".format(log_r2score))"
   ]
  },
  {
   "cell_type": "markdown",
   "id": "33dcd0ae",
   "metadata": {},
   "source": [
    "### Square Transformation"
   ]
  },
  {
   "cell_type": "code",
   "execution_count": 55,
   "id": "79724329",
   "metadata": {},
   "outputs": [],
   "source": [
    "x_sq=X*X\n",
    "y_sq=Y*Y"
   ]
  },
  {
   "cell_type": "code",
   "execution_count": 56,
   "id": "07cf334e",
   "metadata": {},
   "outputs": [],
   "source": [
    "model2=LinearRegression()"
   ]
  },
  {
   "cell_type": "code",
   "execution_count": 57,
   "id": "335695af",
   "metadata": {},
   "outputs": [
    {
     "data": {
      "text/plain": [
       "LinearRegression()"
      ]
     },
     "execution_count": 57,
     "metadata": {},
     "output_type": "execute_result"
    }
   ],
   "source": [
    "model2.fit(x_sq,y_sq)"
   ]
  },
  {
   "cell_type": "code",
   "execution_count": 59,
   "id": "4fd698b8",
   "metadata": {},
   "outputs": [],
   "source": [
    "sq_pred=model2.predict(x_sq)"
   ]
  },
  {
   "cell_type": "code",
   "execution_count": 60,
   "id": "0509d78e",
   "metadata": {},
   "outputs": [
    {
     "name": "stdout",
     "output_type": "stream",
     "text": [
      "The rsquare value after transforminh the variables into squares is 0.9540880842110778\n"
     ]
    }
   ],
   "source": [
    "sq_r2core=r2_score(y_sq,sq_pred)\n",
    "print(\"The rsquare value after transforminh the variables into squares is {}\".format(sq_r2core))"
   ]
  },
  {
   "cell_type": "markdown",
   "id": "849829b0",
   "metadata": {},
   "source": [
    "### Using Square Root Transformation"
   ]
  },
  {
   "cell_type": "code",
   "execution_count": 61,
   "id": "a7e24620",
   "metadata": {},
   "outputs": [],
   "source": [
    "x_sqrt=np.sqrt(X)\n",
    "y_sqrt=np.sqrt(Y)"
   ]
  },
  {
   "cell_type": "code",
   "execution_count": 62,
   "id": "3e485077",
   "metadata": {},
   "outputs": [],
   "source": [
    "model3=LinearRegression()"
   ]
  },
  {
   "cell_type": "code",
   "execution_count": 63,
   "id": "f0ac2123",
   "metadata": {},
   "outputs": [
    {
     "data": {
      "text/plain": [
       "LinearRegression()"
      ]
     },
     "execution_count": 63,
     "metadata": {},
     "output_type": "execute_result"
    }
   ],
   "source": [
    "model3.fit(x_sqrt,y_sqrt)"
   ]
  },
  {
   "cell_type": "code",
   "execution_count": 64,
   "id": "35912d4d",
   "metadata": {},
   "outputs": [],
   "source": [
    "sqrt_pred=model3.predict(x_sqrt)"
   ]
  },
  {
   "cell_type": "code",
   "execution_count": 65,
   "id": "b84b77c2",
   "metadata": {},
   "outputs": [
    {
     "name": "stdout",
     "output_type": "stream",
     "text": [
      "The rsquare value after transforminh the variables into squares is 0.9419490138976824\n"
     ]
    }
   ],
   "source": [
    "sqrt_r2core=r2_score(y_sqrt,sqrt_pred)\n",
    "print(\"The rsquare value after transforminh the variables into squares is {}\".format(sqrt_r2core))"
   ]
  },
  {
   "cell_type": "code",
   "execution_count": 66,
   "id": "38578888",
   "metadata": {},
   "outputs": [
    {
     "data": {
      "text/html": [
       "<div>\n",
       "<style scoped>\n",
       "    .dataframe tbody tr th:only-of-type {\n",
       "        vertical-align: middle;\n",
       "    }\n",
       "\n",
       "    .dataframe tbody tr th {\n",
       "        vertical-align: top;\n",
       "    }\n",
       "\n",
       "    .dataframe thead th {\n",
       "        text-align: right;\n",
       "    }\n",
       "</style>\n",
       "<table border=\"1\" class=\"dataframe\">\n",
       "  <thead>\n",
       "    <tr style=\"text-align: right;\">\n",
       "      <th></th>\n",
       "      <th>models</th>\n",
       "      <th>rsquare value</th>\n",
       "    </tr>\n",
       "  </thead>\n",
       "  <tbody>\n",
       "    <tr>\n",
       "      <th>0</th>\n",
       "      <td>model</td>\n",
       "      <td>0.956957</td>\n",
       "    </tr>\n",
       "    <tr>\n",
       "      <th>1</th>\n",
       "      <td>model(Log)</td>\n",
       "      <td>0.905215</td>\n",
       "    </tr>\n",
       "    <tr>\n",
       "      <th>2</th>\n",
       "      <td>model(squre)</td>\n",
       "      <td>0.954088</td>\n",
       "    </tr>\n",
       "    <tr>\n",
       "      <th>3</th>\n",
       "      <td>model(squareroot)</td>\n",
       "      <td>0.941949</td>\n",
       "    </tr>\n",
       "  </tbody>\n",
       "</table>\n",
       "</div>"
      ],
      "text/plain": [
       "              models  rsquare value\n",
       "0              model       0.956957\n",
       "1         model(Log)       0.905215\n",
       "2       model(squre)       0.954088\n",
       "3  model(squareroot)       0.941949"
      ]
     },
     "execution_count": 66,
     "metadata": {},
     "output_type": "execute_result"
    }
   ],
   "source": [
    "pd.DataFrame({\"models\":['model','model(Log)','model(squre)','model(squareroot)'],\"rsquare value\":[Rsquare,log_r2score,sq_r2core,sqrt_r2core]})"
   ]
  },
  {
   "cell_type": "markdown",
   "id": "91bc324f",
   "metadata": {},
   "source": [
    "- <font color = 'blue'> We can clearly see the rsquare value variation for each model.</font>\n",
    "- <font color = 'blue'> So we can select the model which can give better accuracy rate.</font>"
   ]
  },
  {
   "cell_type": "code",
   "execution_count": null,
   "id": "574df582",
   "metadata": {},
   "outputs": [],
   "source": []
  }
 ],
 "metadata": {
  "kernelspec": {
   "display_name": "Python 3 (ipykernel)",
   "language": "python",
   "name": "python3"
  },
  "language_info": {
   "codemirror_mode": {
    "name": "ipython",
    "version": 3
   },
   "file_extension": ".py",
   "mimetype": "text/x-python",
   "name": "python",
   "nbconvert_exporter": "python",
   "pygments_lexer": "ipython3",
   "version": "3.9.7"
  }
 },
 "nbformat": 4,
 "nbformat_minor": 5
}
